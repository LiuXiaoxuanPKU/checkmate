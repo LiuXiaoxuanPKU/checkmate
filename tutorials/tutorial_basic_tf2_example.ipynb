{
 "cells": [
  {
   "cell_type": "code",
   "execution_count": 1,
   "metadata": {
    "pycharm": {
     "is_executing": false,
     "name": "#%%\n"
    },
    "scrolled": true
   },
   "outputs": [
    {
     "name": "stdout",
     "output_type": "stream",
     "text": [
      "^C\n",
      "Cloning into 'checkmate'...\n",
      "remote: Enumerating objects: 34, done.\u001b[K\n",
      "remote: Counting objects: 100% (34/34), done.\u001b[K\n",
      "remote: Compressing objects: 100% (22/22), done.\u001b[K\n",
      "remote: Total 1195 (delta 16), reused 26 (delta 12), pack-reused 1161\u001b[K\n",
      "Receiving objects: 100% (1195/1195), 524.29 KiB | 3.26 MiB/s, done.\n",
      "Resolving deltas: 100% (698/698), done.\n",
      "Obtaining file:///home/idiot/Documents/research/checkmate/tutorials/checkmate\n",
      "Requirement already satisfied: numpy in /home/idiot/.local/lib/python3.8/site-packages (from checkmate==0.1.0) (1.17.4)\n",
      "Requirement already satisfied: pandas in /home/idiot/.local/lib/python3.8/site-packages (from checkmate==0.1.0) (0.25.3)\n",
      "Requirement already satisfied: toposort in /home/idiot/.local/lib/python3.8/site-packages (from checkmate==0.1.0) (1.5)\n",
      "Requirement already satisfied: psutil in /home/idiot/.local/lib/python3.8/site-packages (from checkmate==0.1.0) (5.7.0)\n",
      "Requirement already satisfied: pytz>=2017.2 in /home/idiot/.local/lib/python3.8/site-packages (from pandas->checkmate==0.1.0) (2019.3)\n",
      "Requirement already satisfied: python-dateutil>=2.6.1 in /home/idiot/.local/lib/python3.8/site-packages (from pandas->checkmate==0.1.0) (2.8.1)\n",
      "Requirement already satisfied: six>=1.5 in /usr/lib/python3.8/site-packages (from python-dateutil>=2.6.1->pandas->checkmate==0.1.0) (1.14.0)\n",
      "Installing collected packages: checkmate\n",
      "  Found existing installation: checkmate 0.1.0\n",
      "    Uninstalling checkmate-0.1.0:\n",
      "      Successfully uninstalled checkmate-0.1.0\n",
      "  Running setup.py develop for checkmate\n",
      "\u001b[31m    ERROR: Command errored out with exit status 1:\n",
      "     command: /usr/bin/python -c 'import sys, setuptools, tokenize; sys.argv[0] = '\"'\"'/home/idiot/Documents/research/checkmate/tutorials/checkmate/setup.py'\"'\"'; __file__='\"'\"'/home/idiot/Documents/research/checkmate/tutorials/checkmate/setup.py'\"'\"';f=getattr(tokenize, '\"'\"'open'\"'\"', open)(__file__);code=f.read().replace('\"'\"'\\r\\n'\"'\"', '\"'\"'\\n'\"'\"');f.close();exec(compile(code, __file__, '\"'\"'exec'\"'\"'))' develop --no-deps\n",
      "         cwd: /home/idiot/Documents/research/checkmate/tutorials/checkmate/\n",
      "    Complete output (27 lines):\n",
      "    running develop\n",
      "    error: can't create or remove files in install directory\n",
      "    \n",
      "    The following error occurred while trying to add or remove files in the\n",
      "    installation directory:\n",
      "    \n",
      "        [Errno 13] Permission denied: '/usr/lib/python3.8/site-packages/test-easy-install-54821.write-test'\n",
      "    \n",
      "    The installation directory you specified (via --install-dir, --prefix, or\n",
      "    the distutils default setting) was:\n",
      "    \n",
      "        /usr/lib/python3.8/site-packages/\n",
      "    \n",
      "    Perhaps your account does not have write access to this directory?  If the\n",
      "    installation directory is a system-owned directory, you may need to sign in\n",
      "    as the administrator or \"root\" account.  If you do not have administrative\n",
      "    access to this machine, you may wish to choose a different installation\n",
      "    directory, preferably one that is listed in your PYTHONPATH environment\n",
      "    variable.\n",
      "    \n",
      "    For information on other options, you may wish to consult the\n",
      "    documentation at:\n",
      "    \n",
      "      https://setuptools.readthedocs.io/en/latest/easy_install.html\n",
      "    \n",
      "    Please make the appropriate changes for your system and try again.\n",
      "    \n",
      "    ----------------------------------------\u001b[0m\n",
      "  Rolling back uninstall of checkmate\n",
      "  Moving to /home/idiot/.local/lib/python3.8/site-packages/checkmate.egg-link\n",
      "   from /tmp/pip-uninstall-f2mwf32c/checkmate.egg-link\n",
      "\u001b[31mERROR: Command errored out with exit status 1: /usr/bin/python -c 'import sys, setuptools, tokenize; sys.argv[0] = '\"'\"'/home/idiot/Documents/research/checkmate/tutorials/checkmate/setup.py'\"'\"'; __file__='\"'\"'/home/idiot/Documents/research/checkmate/tutorials/checkmate/setup.py'\"'\"';f=getattr(tokenize, '\"'\"'open'\"'\"', open)(__file__);code=f.read().replace('\"'\"'\\r\\n'\"'\"', '\"'\"'\\n'\"'\"');f.close();exec(compile(code, __file__, '\"'\"'exec'\"'\"'))' develop --no-deps Check the logs for full command output.\u001b[0m\n"
     ]
    }
   ],
   "source": [
    "import os\n",
    "!pip install tensorflow-gpu>=2.0.0 tqdm\n",
    "try:\n",
    "    from checkmate.tf2 import get_keras_model\n",
    "except:\n",
    "   !git clone https://github.com/parasj/checkmate.git\n",
    "   os.chdir('./checkmate')\n",
    "   !pip install -e .\n"
   ]
  },
  {
   "cell_type": "code",
   "execution_count": 2,
   "metadata": {
    "pycharm": {
     "is_executing": false,
     "name": "#%%\n"
    }
   },
   "outputs": [
    {
     "name": "stderr",
     "output_type": "stream",
     "text": [
      "/home/idiot/.local/lib/python3.8/site-packages/google/protobuf/__init__.py:37: UserWarning: Module checkmate was already imported from None, but /home/idiot/Documents/research/checkmate/tutorials/checkmate is being added to sys.path\n",
      "  __import__('pkg_resources').declare_namespace(__name__)\n",
      "Using TensorFlow backend.\n"
     ]
    }
   ],
   "source": [
    "import logging\n",
    "import numpy as np\n",
    "import tensorflow as tf\n",
    "from checkmate.tf2 import get_keras_model\n",
    "from tqdm import tqdm\n",
    "logging.basicConfig(level=logging.DEBUG)"
   ]
  },
  {
   "cell_type": "markdown",
   "metadata": {},
   "source": [
    "# Checkmate getting started guide\n",
    "Checkmate is a system for training large neural neural networks on memory-constrained hardware. State-of-the-art models require\n",
    "increasing amounts of GPU memory. Checkmate traces your TensorFlow application and efficiently reschedules the TF graph so that\n",
    "total memory requirements are under the memory budget of your GPU.\n",
    "\n",
    "In this tutorial, we walk through how to train a computer vision model with a basic application of Checkmate. While this \n",
    "application would likely fit within the limits of most GPUs, it serves to illustrate the mechanics of using Checkmate.\n",
    "\n",
    "## Loading CIFAR10 using keras\n",
    "Checkmate optimizes any TensorFlow 2.0 graph. In this example, we load CIFAR10 as an example. We also use a basic few-layer neural network as an example."
   ]
  },
  {
   "cell_type": "code",
   "execution_count": 3,
   "metadata": {
    "pycharm": {
     "is_executing": false,
     "name": "#%%\n"
    }
   },
   "outputs": [
    {
     "name": "stdout",
     "output_type": "stream",
     "text": [
      "Downloading data from https://www.cs.toronto.edu/~kriz/cifar-10-python.tar.gz\n",
      "170500096/170498071 [==============================] - 20s 0us/step\n"
     ]
    }
   ],
   "source": [
    "# load cifar10 dataset\n",
    "batch_size = 1024\n",
    "(x_train, y_train), (x_test, y_test) = tf.keras.datasets.cifar10.load_data()\n",
    "x_train, x_test = x_train / 255.0, x_test / 255.0\n",
    "x_train, y_train = x_train.astype(np.float32), y_train.astype(np.float32)\n",
    "x_test, y_test = x_test.astype(np.float32), y_test.astype(np.float32)\n",
    "train_ds = tf.data.Dataset.from_tensor_slices((x_train, y_train)).batch(batch_size)\n",
    "test_ds = tf.data.Dataset.from_tensor_slices((x_test, y_test)).batch(batch_size)\n",
    "\n",
    "# load TensorFlow model from Keras applications along with loss function and optimizer\n",
    "model = get_keras_model(\"test\", input_shape=x_train[0].shape, num_classes=10)\n",
    "loss = tf.keras.losses.SparseCategoricalCrossentropy()\n",
    "optimizer = tf.keras.optimizers.Adam()\n",
    "model.compile(optimizer=optimizer, loss=loss)"
   ]
  },
  {
   "cell_type": "markdown",
   "metadata": {
    "pycharm": {
     "name": "#%% md\n"
    }
   },
   "source": [
    "## Recompiling the TensorFlow test model using Checkmate\n",
    "Checkmate exposes a convenience function `checkmate.tf2.compile_tf2` that will take a Keras model and return\n",
    "a `tf.Function` that runs a single training iteration over a batch. In order to accurately measure memory\n",
    "consumption per operation, Checkmate needs to know the full size of the inputs to your model. The training\n",
    "dataset usually contains this under `train_ds.element_spec`. Note that `element_spec` will also return the\n",
    "shape of the output, which is not needed."
   ]
  },
  {
   "cell_type": "code",
   "execution_count": 4,
   "metadata": {
    "pycharm": {
     "is_executing": false,
     "name": "#%%\n"
    }
   },
   "outputs": [
    {
     "name": "stdout",
     "output_type": "stream",
     "text": [
      "WARNING:tensorflow:From /home/idiot/Documents/research/checkmate/tutorials/checkmate/checkmate/tf2/wrapper.py:13: is_gpu_available (from tensorflow.python.framework.test_util) is deprecated and will be removed in a future version.\n",
      "Instructions for updating:\n",
      "Use `tf.config.list_physical_devices('GPU')` instead.\n"
     ]
    },
    {
     "name": "stderr",
     "output_type": "stream",
     "text": [
      "WARNING:tensorflow:From /home/idiot/Documents/research/checkmate/tutorials/checkmate/checkmate/tf2/wrapper.py:13: is_gpu_available (from tensorflow.python.framework.test_util) is deprecated and will be removed in a future version.\n",
      "Instructions for updating:\n",
      "Use `tf.config.list_physical_devices('GPU')` instead.\n",
      "DEBUG:root:[checkmate] No GPU detected, using system DRAM on CPU\n",
      "INFO:root:[checkmate] No budget specified; defaulting to 7681.86MB\n",
      "ERROR:root:[checkmate] At the moment, Checkmate does not guarentee scheduling under the specified budget. This feature will appear soon.\n",
      "DEBUG:root:[checkmate] Solving for recomputation schedule, may take a while\n",
      "DEBUG:root:[checkmate] Using Chen et al. (2016) sqrt(n) algorithm\n",
      "DEBUG:root:[checkmate] Schedule solved\n"
     ]
    }
   ],
   "source": [
    "from checkmate.tf2.wrapper import compile_tf2\n",
    "element_spec = train_ds.__iter__().__next__()\n",
    "train_iteration = compile_tf2(\n",
    "    model,\n",
    "    loss=loss,\n",
    "    optimizer=optimizer,\n",
    "    input_spec=element_spec[0],  # retrieve first element of dataset\n",
    "    label_spec=element_spec[1]\n",
    ")"
   ]
  },
  {
   "cell_type": "markdown",
   "metadata": {
    "pycharm": {
     "is_executing": false,
     "name": "#%% md\n"
    }
   },
   "source": [
    "# Training the large neural network\n",
    "Checkmate has now recompiled our training function. We can continue to use existing TensorFlow functionality for training neural networks, but we substitute the call to the model with Checkmate's version of the training iteration."
   ]
  },
  {
   "cell_type": "code",
   "execution_count": 5,
   "metadata": {
    "pycharm": {
     "is_executing": false,
     "name": "#%%\n"
    }
   },
   "outputs": [
    {
     "name": "stderr",
     "output_type": "stream",
     "text": [
      "Train epoch 1; loss=2.2244, acc=0.1727: 100%|██████████| 50000/50000 [01:59<00:00, 420.08it/s]\n",
      "Valid epoch 1, loss=2.1192, acc=0.2042:  72%|███████▏  | 7168/10000 [00:09<00:03, 732.64it/s]\n",
      "ERROR:root:Internal Python error in the inspect module.\n",
      "Below is the traceback from this internal error.\n",
      "\n",
      "INFO:root:\n",
      "Unfortunately, your original traceback can not be constructed.\n",
      "\n"
     ]
    },
    {
     "name": "stdout",
     "output_type": "stream",
     "text": [
      "Traceback (most recent call last):\n",
      "  File \"/home/idiot/.local/lib/python3.8/site-packages/IPython/core/interactiveshell.py\", line 3319, in run_code\n",
      "    exec(code_obj, self.user_global_ns, self.user_ns)\n",
      "  File \"<ipython-input-5-9a3d5a812563>\", line 23, in <module>\n",
      "    predictions = model(images)\n",
      "  File \"/home/idiot/.local/lib/python3.8/site-packages/tensorflow/python/keras/engine/base_layer.py\", line 967, in __call__\n",
      "    outputs = self.call(cast_inputs, *args, **kwargs)\n",
      "  File \"/home/idiot/.local/lib/python3.8/site-packages/tensorflow/python/keras/engine/network.py\", line 712, in call\n",
      "    return self._run_internal_graph(\n",
      "  File \"/home/idiot/.local/lib/python3.8/site-packages/tensorflow/python/keras/engine/network.py\", line 883, in _run_internal_graph\n",
      "    output_tensors = layer(computed_tensors, **kwargs)\n",
      "  File \"/home/idiot/.local/lib/python3.8/site-packages/tensorflow/python/keras/engine/base_layer.py\", line 967, in __call__\n",
      "    outputs = self.call(cast_inputs, *args, **kwargs)\n",
      "  File \"/home/idiot/.local/lib/python3.8/site-packages/tensorflow/python/keras/layers/convolutional.py\", line 218, in call\n",
      "    outputs = nn.bias_add(outputs, self.bias, data_format='NHWC')\n",
      "  File \"/home/idiot/.local/lib/python3.8/site-packages/tensorflow/python/ops/nn_ops.py\", line 2796, in bias_add\n",
      "    return gen_nn_ops.bias_add(\n",
      "  File \"/home/idiot/.local/lib/python3.8/site-packages/tensorflow/python/ops/gen_nn_ops.py\", line 670, in bias_add\n",
      "    _result = pywrap_tfe.TFE_Py_FastPathExecute(\n",
      "KeyboardInterrupt\n",
      "\n",
      "During handling of the above exception, another exception occurred:\n",
      "\n",
      "Traceback (most recent call last):\n",
      "  File \"/home/idiot/.local/lib/python3.8/site-packages/IPython/core/interactiveshell.py\", line 2034, in showtraceback\n",
      "    stb = value._render_traceback_()\n",
      "AttributeError: 'KeyboardInterrupt' object has no attribute '_render_traceback_'\n",
      "\n",
      "During handling of the above exception, another exception occurred:\n",
      "\n",
      "Traceback (most recent call last):\n",
      "  File \"/home/idiot/.local/lib/python3.8/site-packages/IPython/core/ultratb.py\", line 1101, in get_records\n",
      "    return _fixed_getinnerframes(etb, number_of_lines_of_context, tb_offset)\n",
      "  File \"/home/idiot/.local/lib/python3.8/site-packages/IPython/core/ultratb.py\", line 319, in wrapped\n",
      "    return f(*args, **kwargs)\n",
      "  File \"/home/idiot/.local/lib/python3.8/site-packages/IPython/core/ultratb.py\", line 353, in _fixed_getinnerframes\n",
      "    records = fix_frame_records_filenames(inspect.getinnerframes(etb, context))\n",
      "  File \"/usr/lib/python3.8/inspect.py\", line 1503, in getinnerframes\n",
      "    frameinfo = (tb.tb_frame,) + getframeinfo(tb, context)\n",
      "  File \"/usr/lib/python3.8/inspect.py\", line 1461, in getframeinfo\n",
      "    filename = getsourcefile(frame) or getfile(frame)\n",
      "  File \"/usr/lib/python3.8/inspect.py\", line 708, in getsourcefile\n",
      "    if getattr(getmodule(object, filename), '__loader__', None) is not None:\n",
      "  File \"/usr/lib/python3.8/inspect.py\", line 751, in getmodule\n",
      "    f = getabsfile(module)\n",
      "  File \"/usr/lib/python3.8/inspect.py\", line 720, in getabsfile\n",
      "    _filename = getsourcefile(object) or getfile(object)\n",
      "  File \"/usr/lib/python3.8/inspect.py\", line 705, in getsourcefile\n",
      "    if os.path.exists(filename):\n",
      "  File \"/usr/lib/python3.8/genericpath.py\", line 19, in exists\n",
      "    os.stat(path)\n",
      "KeyboardInterrupt\n"
     ]
    },
    {
     "ename": "KeyboardInterrupt",
     "evalue": "",
     "output_type": "error",
     "traceback": [
      "\u001b[0;31m---------------------------------------------------------------------------\u001b[0m"
     ]
    }
   ],
   "source": [
    "train_loss = tf.keras.metrics.Mean(name=\"train_loss\")\n",
    "train_accuracy = tf.keras.metrics.SparseCategoricalAccuracy(name=\"train_accuracy\")\n",
    "test_loss = tf.keras.metrics.Mean(name=\"test_loss\")\n",
    "test_accuracy = tf.keras.metrics.SparseCategoricalAccuracy(name=\"test_accuracy\")\n",
    "\n",
    "for epoch in range(10):\n",
    "    # Reset the metrics at the start of the next epoch\n",
    "    train_loss.reset_states()\n",
    "    train_accuracy.reset_states()\n",
    "    test_loss.reset_states()\n",
    "    test_accuracy.reset_states()\n",
    "\n",
    "    with tqdm(total=x_train.shape[0]) as pbar:\n",
    "        for images, labels in train_ds:\n",
    "            predictions, loss_value = train_iteration(images, labels)\n",
    "            train_loss(loss_value)\n",
    "            train_accuracy(labels, predictions)\n",
    "            pbar.update(images.shape[0])\n",
    "            pbar.set_description('Train epoch {}; loss={:0.4f}, acc={:0.4f}'.format(epoch + 1, train_loss.result(), train_accuracy.result()))\n",
    "\n",
    "    with tqdm(total=x_test.shape[0]) as pbar:\n",
    "        for images, labels in test_ds:\n",
    "            predictions = model(images)\n",
    "            test_loss_value = loss(labels, predictions)\n",
    "            test_loss(test_loss_value)\n",
    "            test_accuracy(labels, predictions)\n",
    "            pbar.update(images.shape[0])\n",
    "            pbar.set_description('Valid epoch {}, loss={:0.4f}, acc={:0.4f}'.format(epoch + 1, test_loss.result(), test_accuracy.result()))\n"
   ]
  },
  {
   "cell_type": "code",
   "execution_count": null,
   "metadata": {},
   "outputs": [],
   "source": []
  }
 ],
 "metadata": {
  "kernelspec": {
   "display_name": "Python 3",
   "language": "python",
   "name": "python3"
  },
  "language_info": {
   "codemirror_mode": {
    "name": "ipython",
    "version": 3
   },
   "file_extension": ".py",
   "mimetype": "text/x-python",
   "name": "python",
   "nbconvert_exporter": "python",
   "pygments_lexer": "ipython3",
   "version": "3.8.1"
  },
  "pycharm": {
   "stem_cell": {
    "cell_type": "raw",
    "metadata": {
     "collapsed": false
    },
    "source": []
   }
  }
 },
 "nbformat": 4,
 "nbformat_minor": 1
}
